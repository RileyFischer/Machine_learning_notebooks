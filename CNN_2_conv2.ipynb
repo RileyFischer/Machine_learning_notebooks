{
 "cells": [
  {
   "cell_type": "code",
   "execution_count": 1,
   "metadata": {
    "id": "3oIWkvjnpYZ1"
   },
   "outputs": [],
   "source": [
    "import numpy as np\n",
    "import tensorflow as tf"
   ]
  },
  {
   "cell_type": "code",
   "execution_count": 2,
   "metadata": {
    "colab": {
     "base_uri": "https://localhost:8080/"
    },
    "id": "uUKDAN6RpKqC",
    "outputId": "03b8fbe2-d008-40ca-b7d7-3e3a1ef42f05"
   },
   "outputs": [
    {
     "name": "stdout",
     "output_type": "stream",
     "text": [
      "C= \n",
      " [[ -1.  -4.  14.]\n",
      " [  3. -20. -17.]]\n"
     ]
    }
   ],
   "source": [
    "# 1. Convolve \n",
    "# https://www.tensorflow.org/api_docs/python/tf/nn/conv2d\n",
    "\n",
    "# default data in \"NHWC\" oder- [batch, height, width, channels]\n",
    "A = np.array([[4,9,4,5,6],[8,3,6,8,5],[6,8,1,9,0],[5,8,1,1,3]]).reshape((1,4,5,1)).astype(\"float32\")\n",
    "# filter / kernel shape [filter_height, filter_width, in_channels, out_channels]\n",
    "B = np.array([[0,-1,0],[-1,4,-1],[0,-1,0]]).reshape((3,3,1,1))\n",
    "\n",
    "# stride in NHWC order\n",
    "strides = [1,2,2,1]\n",
    "# padding in \"NHWC\" oder- [[0, 0], [pad_top, pad_bottom],[pad_left, pad_right], [0, 0]]\n",
    "padding = [[0, 0],[1, 1], [1, 1],[0, 0]]\n",
    "\n",
    "C = tf.nn.conv2d(A, B, strides=strides, padding=padding, data_format='NHWC')\n",
    "print('C= \\n',C.numpy()[0,:,:,0])\n"
   ]
  },
  {
   "cell_type": "code",
   "execution_count": 3,
   "metadata": {
    "colab": {
     "base_uri": "https://localhost:8080/"
    },
    "id": "j9fVJEeDtfuY",
    "outputId": "5c20a2fa-abbf-4c67-e0d7-23abae22e3ed"
   },
   "outputs": [
    {
     "name": "stdout",
     "output_type": "stream",
     "text": [
      "D= \n",
      " [[4.5   1.625 2.    1.125 2.5  ]\n",
      " [1.5   0.    1.25  0.    1.625]\n",
      " [1.5   1.125 3.    1.75  4.   ]\n",
      " [1.375 0.    0.875 0.    2.125]\n",
      " [4.    1.125 0.5   1.25  4.5  ]]\n"
     ]
    }
   ],
   "source": [
    "# 2. Transposed Convolution/deconvolution \n",
    "# https://www.tensorflow.org/api_docs/python/tf/nn/conv2d_transpose\n",
    "\n",
    "At = np.array([[9,4,5],[3,6,8],[8,1,9]]).reshape((1,3,3,1))\n",
    "Bt = (np.array([[0,1,0],[1,4,1],[0,1,0]])/8).reshape((3,3,1,1))\n",
    "\n",
    "output_shape = [5,5]\n",
    "strides = [1,2,2,1]\n",
    "padding = [[0, 0],[1, 1], [1, 1],[0, 0]]\n",
    "\n",
    "D = tf.nn.conv2d_transpose(At, Bt, output_shape=output_shape, strides=strides, padding=padding, data_format='NHWC')\n",
    "print('D= \\n', D.numpy()[0,:,:,0])"
   ]
  }
 ],
 "metadata": {
  "colab": {
   "collapsed_sections": [],
   "name": "Ex_CNN_2_conv2.ipynb",
   "provenance": []
  },
  "kernelspec": {
   "display_name": "Python 3 (ipykernel)",
   "language": "python",
   "name": "python3"
  },
  "language_info": {
   "codemirror_mode": {
    "name": "ipython",
    "version": 3
   },
   "file_extension": ".py",
   "mimetype": "text/x-python",
   "name": "python",
   "nbconvert_exporter": "python",
   "pygments_lexer": "ipython3",
   "version": "3.9.7"
  }
 },
 "nbformat": 4,
 "nbformat_minor": 1
}
